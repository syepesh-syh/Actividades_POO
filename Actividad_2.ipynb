{
  "nbformat": 4,
  "nbformat_minor": 0,
  "metadata": {
    "colab": {
      "provenance": [],
      "authorship_tag": "ABX9TyNIawonMItXqPbhTbP4qMEC",
      "include_colab_link": true
    },
    "kernelspec": {
      "name": "python3",
      "display_name": "Python 3"
    },
    "language_info": {
      "name": "python"
    }
  },
  "cells": [
    {
      "cell_type": "markdown",
      "metadata": {
        "id": "view-in-github",
        "colab_type": "text"
      },
      "source": [
        "<a href=\"https://colab.research.google.com/github/syepesh-syh/Actividades_POO/blob/main/Actividad_2.ipynb\" target=\"_parent\"><img src=\"https://colab.research.google.com/assets/colab-badge.svg\" alt=\"Open In Colab\"/></a>"
      ]
    },
    {
      "cell_type": "code",
      "execution_count": 1,
      "metadata": {
        "colab": {
          "base_uri": "https://localhost:8080/"
        },
        "id": "EBe195hJ1zyd",
        "outputId": "29f0f899-9bf3-4108-c1c2-3542fd08e68a"
      },
      "outputs": [
        {
          "output_type": "stream",
          "name": "stdout",
          "text": [
            "PERSONA #1\n",
            "Nombre: Pedro\n",
            "Apellido: Pérez\n",
            "Documento: 1053121010\n",
            "Año de Nacimiento: 1998\n",
            "\n",
            "PERSONA #2\n",
            "Nombre: Luis\n",
            "Apellido: León\n",
            "Documento: 1053223344\n",
            "Año de Nacimiento: 2001\n"
          ]
        }
      ],
      "source": [
        "class Persona:\n",
        "    def __init__(self, nombre: str, apellido: str, documento: int, nacimiento: int):\n",
        "        # Constructor que inicializa los atributos\n",
        "        self.nombre = nombre\n",
        "        self.apellido = apellido\n",
        "        self.documento = documento\n",
        "        self.nacimiento = nacimiento\n",
        "\n",
        "    def imprimir(self):\n",
        "        # Método que imprime los valores de los atributos\n",
        "        print(f\"Nombre: {self.nombre}\")\n",
        "        print(f\"Apellido: {self.apellido}\")\n",
        "        print(f\"Documento: {self.documento}\")\n",
        "        print(f\"Año de Nacimiento: {self.nacimiento}\")\n",
        "\n",
        "def main():\n",
        "    # Crear dos personas\n",
        "    persona1 = Persona(\"Pedro\", \"Pérez\", 1053121010, 1998)\n",
        "    persona2 = Persona(\"Luis\", \"León\", 1053223344, 2001)\n",
        "\n",
        "    # Imprimir los valores de los atributos de las personas\n",
        "    print(\"PERSONA #1\")\n",
        "    persona1.imprimir()\n",
        "    print()  # Espacio entre las personas\n",
        "    print(\"PERSONA #2\")\n",
        "    persona2.imprimir()\n",
        "\n",
        "# Llamada a la función main\n",
        "if __name__ == \"__main__\":\n",
        "    main()"
      ]
    },
    {
      "cell_type": "code",
      "source": [
        "from enum import Enum\n",
        "\n",
        "class TipoPlaneta(Enum):\n",
        "    GASEOSO = 1\n",
        "    TERRESTRE = 2\n",
        "    ENANO = 3\n",
        "\n",
        "class Planeta:\n",
        "    def __init__(self, nombre: str = None, num_satelites: int = 0, masa: float = 0.0, volumen: float = 0.0,\n",
        "                 diametro: int = 0, distancia_sol: int = 0, tipo: TipoPlaneta = None, observable: bool = False):\n",
        "        # Constructor que inicializa los atributos\n",
        "        self.nombre = nombre\n",
        "        self.num_satelites = num_satelites\n",
        "        self.masa = masa\n",
        "        self.volumen = volumen\n",
        "        self.diametro = diametro\n",
        "        self.distancia_sol = distancia_sol\n",
        "        self.tipo = tipo\n",
        "        self.observable = observable\n",
        "\n",
        "    def mostrar_info(self):\n",
        "        # Método que imprime los valores de los atributos\n",
        "        print(f\"Nombre del planeta = {self.nombre}\")\n",
        "        print(f\"Cantidad de satélites = {self.num_satelites}\")\n",
        "        print(f\"Masa del planeta (kg) = {self.masa}\")\n",
        "        print(f\"Volumen del planeta (km³) = {self.volumen}\")\n",
        "        print(f\"Diámetro del planeta (km) = {self.diametro}\")\n",
        "        print(f\"Distancia media al sol (km) = {self.distancia_sol}\")\n",
        "        print(f\"Tipo de planeta = {self.tipo.name if self.tipo else 'No definido'}\")\n",
        "        print(f\"Es observable a simple vista = {self.observable}\")\n",
        "\n",
        "    def densidad(self):\n",
        "        # Cálculo de la densidad\n",
        "        if self.volumen > 0:\n",
        "            return self.masa / self.volumen\n",
        "        return 0\n",
        "\n",
        "    def es_exterior(self):\n",
        "        UA = 149597870\n",
        "        # Es exterior si está más allá de 3.4 UA\n",
        "        return self.distancia_sol > 3.4 * UA\n",
        "\n",
        "\n",
        "\n",
        "if __name__ == \"__main__\":\n",
        "    # Crear dos planetas\n",
        "    planeta1 = Planeta(\"Tierra\", 1, 5.9736E24, 1.08321E12, 12742, 150000000, TipoPlaneta.TERRESTRE, True)\n",
        "    planeta2 = Planeta(\"Júpiter\", 79, 1.898E27, 1.4313E15, 139820, 778500000, TipoPlaneta.GASEOSO, True)\n",
        "\n",
        "    # Mostrar info\n",
        "    planeta1.mostrar_info()\n",
        "    print(f\"Densidad de {planeta1.nombre} = {planeta1.densidad()} kg/km³\")\n",
        "    print(f\"¿Es exterior? {planeta1.es_exterior()}\\n\")\n",
        "\n",
        "    planeta2.mostrar_info()\n",
        "    print(f\"Densidad de {planeta2.nombre} = {planeta2.densidad()} kg/km³\")\n",
        "    print(f\"¿Es exterior? {planeta2.es_exterior()}\")"
      ],
      "metadata": {
        "colab": {
          "base_uri": "https://localhost:8080/"
        },
        "id": "NYZBCaL617qv",
        "outputId": "26e2fa09-38c8-49b3-fbfb-a20d385bbffd"
      },
      "execution_count": 2,
      "outputs": [
        {
          "output_type": "stream",
          "name": "stdout",
          "text": [
            "Nombre del planeta = Tierra\n",
            "Cantidad de satélites = 1\n",
            "Masa del planeta (kg) = 5.9736e+24\n",
            "Volumen del planeta (km³) = 1083210000000.0\n",
            "Diámetro del planeta (km) = 12742\n",
            "Distancia media al sol (km) = 150000000\n",
            "Tipo de planeta = TERRESTRE\n",
            "Es observable a simple vista = True\n",
            "Densidad de Tierra = 5514720137369.484 kg/km³\n",
            "¿Es exterior? False\n",
            "\n",
            "Nombre del planeta = Júpiter\n",
            "Cantidad de satélites = 79\n",
            "Masa del planeta (kg) = 1.898e+27\n",
            "Volumen del planeta (km³) = 1431300000000000.0\n",
            "Diámetro del planeta (km) = 139820\n",
            "Distancia media al sol (km) = 778500000\n",
            "Tipo de planeta = GASEOSO\n",
            "Es observable a simple vista = True\n",
            "Densidad de Júpiter = 1326067211625.7947 kg/km³\n",
            "¿Es exterior? True\n"
          ]
        }
      ]
    }
  ]
}