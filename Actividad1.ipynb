{
  "nbformat": 4,
  "nbformat_minor": 0,
  "metadata": {
    "colab": {
      "provenance": [],
      "authorship_tag": "ABX9TyPBr4QG5Rus0NgqLFNLx3Sz",
      "include_colab_link": true
    },
    "kernelspec": {
      "name": "python3",
      "display_name": "Python 3"
    },
    "language_info": {
      "name": "python"
    }
  },
  "cells": [
    {
      "cell_type": "markdown",
      "metadata": {
        "id": "view-in-github",
        "colab_type": "text"
      },
      "source": [
        "<a href=\"https://colab.research.google.com/github/syepesh-syh/Actividades_POO/blob/main/Actividad1.ipynb\" target=\"_parent\"><img src=\"https://colab.research.google.com/assets/colab-badge.svg\" alt=\"Open In Colab\"/></a>"
      ]
    },
    {
      "cell_type": "code",
      "execution_count": 11,
      "metadata": {
        "colab": {
          "base_uri": "https://localhost:8080/"
        },
        "id": "Oc3ACHeq40AY",
        "outputId": "cf43b89d-73eb-4049-9822-ce5657642459"
      },
      "outputs": [
        {
          "output_type": "stream",
          "name": "stdout",
          "text": [
            "¿Cuántos años tiene Juan?: 19\n",
            "Juan tiene 19 años.\n",
            "Alberto tiene 12.666666666666666 años.\n",
            "Ana tiene 25.333333333333332 años.\n",
            "La mamá tiene 57.0 años.\n"
          ]
        }
      ],
      "source": [
        "class EdadMama:\n",
        "  def __init__(self):\n",
        "    self.Juan = int(input(\"¿Cuántos años tiene Juan?: \"))\n",
        "    self.Alberto = (2/3) * self.Juan\n",
        "    self.Ana = (4/3) * self.Juan\n",
        "    self.Mama = self.Juan + self.Alberto +self.Ana\n",
        "\n",
        "  def mostrar_edades(self):\n",
        "    print(f\"Juan tiene {self.Juan} años.\")\n",
        "    print(f\"Alberto tiene {self.Alberto} años.\")\n",
        "    print(f\"Ana tiene {self.Ana} años.\")\n",
        "    print(f\"La mamá tiene {self.Mama} años.\")\n",
        "\n",
        "Familia = EdadMama()\n",
        "Familia.mostrar_edades()\n"
      ]
    },
    {
      "cell_type": "code",
      "source": [
        "class Suma:\n",
        "  def __init__(self):\n",
        "    self.SUMA = 0\n",
        "    self.X = 20\n",
        "    self.SUMA = self.SUMA + self.X\n",
        "    self.Y = 40\n",
        "    self.X = self.X + self.Y ** 2\n",
        "    self.SUMA = self.SUMA + self.X /self.Y\n",
        "\n",
        "  def mostrar_resultados(self):\n",
        "    print(f\"El valor de la suma es: {self.SUMA}\")\n",
        "\n",
        "operacion = Suma()\n",
        "operacion.mostrar_resultados()"
      ],
      "metadata": {
        "colab": {
          "base_uri": "https://localhost:8080/"
        },
        "id": "bSgk65y-5f9y",
        "outputId": "73986c76-6676-4375-9426-98b75bde72f3"
      },
      "execution_count": null,
      "outputs": [
        {
          "output_type": "stream",
          "name": "stdout",
          "text": [
            "El valor de la suma es: 60.5\n"
          ]
        }
      ]
    },
    {
      "cell_type": "code",
      "source": [
        "class Salario:\n",
        "  def __init__(self):\n",
        "    self.semanas = float(input(\"¿Cuántas semanas trabajó?: \"))\n",
        "    self.pago_semana = 48 * 5000\n",
        "    self.bruto = self.semanas * self.pago_semana\n",
        "    self.retencion = self.bruto * 0.125\n",
        "    self.neto = self.bruto - self.retencion\n",
        "\n",
        "  def mostrar_resultados(self):\n",
        "    print(f\"El salario bruto es de: {self.bruto}\")\n",
        "    print(f\"La retención en la fuente es de: {self.retencion}\")\n",
        "    print(f\"El salario neto del trabajador es de: {self.neto}\")\n",
        "\n",
        "resultado = Salario()\n",
        "resultado.mostrar_resultados()\n"
      ],
      "metadata": {
        "colab": {
          "base_uri": "https://localhost:8080/"
        },
        "id": "maZDwp-4ZiAC",
        "outputId": "ace3b3a2-1caf-4981-bcdf-c4c8fe6899a6"
      },
      "execution_count": null,
      "outputs": [
        {
          "output_type": "stream",
          "name": "stdout",
          "text": [
            "¿Cuántas semanas trabajó?: 1\n",
            "El salario bruto es de: 240000.0\n",
            "La retención en la fuente es de: 30000.0\n",
            "El salario neto del trabajador es de: 210000.0\n"
          ]
        }
      ]
    },
    {
      "cell_type": "code",
      "source": [
        "class Potencia():\n",
        "  def __init__(self):\n",
        "    self.numero = float(input(\"Ingrese un número: \"))\n",
        "    self.cuadrado = pow(self.numero, 2)\n",
        "    self.cubo = pow(self.numero, 3)\n",
        "\n",
        "  def mostrar_respuestas(self):\n",
        "    print(f\"Tu número es: {self.numero}\")\n",
        "    print(f\"Su cuadrado es: {self.cuadrado}\")\n",
        "    print(f\"Y su cubo es: {self.cubo}\")\n",
        "\n",
        "resultados = Potencia()\n",
        "resultados.mostrar_respuestas()"
      ],
      "metadata": {
        "colab": {
          "base_uri": "https://localhost:8080/"
        },
        "id": "Utn21ELed7OP",
        "outputId": "d7cf9ea8-60e9-4013-efb6-817a05e2f826"
      },
      "execution_count": null,
      "outputs": [
        {
          "output_type": "stream",
          "name": "stdout",
          "text": [
            "Ingrese un número: 2\n",
            "Tu número es: 2.0\n",
            "Su cuadrado es: 4.0\n",
            "Y su cubo es: 8.0\n"
          ]
        }
      ]
    },
    {
      "cell_type": "code",
      "source": [
        "import math\n",
        "\n",
        "class Circunferencia():\n",
        "  def __init__(self):\n",
        "    self.radio = float(input(\"Ingrese el radio del círculo: \"))\n",
        "    self.area = math.pi * pow(self.radio,2)\n",
        "    self.longitud = 2 * math.pi * self.radio\n",
        "\n",
        "  def resultados(self):\n",
        "    print(\"El radio de la circunferencia es de: \", self.radio)\n",
        "    print(\"El área de la circunferencia es de: \", self.area)\n",
        "    print(\"La longitud de la circunferencia es de: \", self.longitud)\n",
        "\n",
        "respuesta = Circunferencia()\n",
        "respuesta.resultados()\n"
      ],
      "metadata": {
        "colab": {
          "base_uri": "https://localhost:8080/"
        },
        "id": "MF3jVBnghAMH",
        "outputId": "106089ed-af21-4534-b65b-5e3ee64d35c0"
      },
      "execution_count": null,
      "outputs": [
        {
          "output_type": "stream",
          "name": "stdout",
          "text": [
            "Ingrese el radio del círculo: 3\n",
            "El radio de la circunferencia es de:  3.0\n",
            "El área de la circunferencia es de:  28.274333882308138\n",
            "La longitud de la circunferencia es de:  18.84955592153876\n"
          ]
        }
      ]
    }
  ]
}